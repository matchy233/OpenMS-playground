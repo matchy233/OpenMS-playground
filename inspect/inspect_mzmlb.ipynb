{
 "cells": [
  {
   "cell_type": "code",
   "execution_count": 21,
   "metadata": {},
   "outputs": [],
   "source": [
    "import h5py\n",
    "import hdf5plugin\n",
    "import io\n",
    "import numpy as np\n",
    "import xml.etree.ElementTree as ET"
   ]
  },
  {
   "cell_type": "code",
   "execution_count": 22,
   "metadata": {},
   "outputs": [],
   "source": [
    "hdf5 = h5py.File('../resources/small.mzMLb', 'r+')"
   ]
  },
  {
   "cell_type": "code",
   "execution_count": 23,
   "metadata": {},
   "outputs": [
    {
     "data": {
      "text/plain": [
       "<KeysViewHDF5 ['chromatogram_MS_1000515_float32', 'chromatogram_MS_1000595_float32', 'mzML', 'mzML_chromatogramIndex', 'mzML_chromatogramIndex_idRef', 'mzML_spectrumIndex', 'mzML_spectrumIndex_idRef', 'spectrum_MS_1000514_float64', 'spectrum_MS_1000515_float32']>"
      ]
     },
     "execution_count": 23,
     "metadata": {},
     "output_type": "execute_result"
    }
   ],
   "source": [
    "hdf5.keys()"
   ]
  },
  {
   "cell_type": "code",
   "execution_count": 24,
   "metadata": {},
   "outputs": [
    {
     "data": {
      "text/plain": [
       "<HDF5 dataset \"mzML\": shape (287267,), type \"|i1\">"
      ]
     },
     "execution_count": 24,
     "metadata": {},
     "output_type": "execute_result"
    }
   ],
   "source": [
    "hdf5['mzML']"
   ]
  },
  {
   "cell_type": "code",
   "execution_count": 25,
   "metadata": {},
   "outputs": [],
   "source": [
    "class HDF5ByteBuffer(io.RawIOBase):\n",
    "    def __init__(self, buffer, offset=None):\n",
    "        if offset is None:\n",
    "            offset = 0\n",
    "        self.buffer = buffer\n",
    "        self.offset = offset\n",
    "        self.size = self.buffer.size\n",
    "        self.mode = 'rb'\n",
    "\n",
    "    def readable(self):\n",
    "        return True\n",
    "\n",
    "    def seekable(self):\n",
    "        return True\n",
    "\n",
    "    def isatty(self):\n",
    "        return False\n",
    "\n",
    "    def seek(self, offset, whence=0):\n",
    "        if whence == io.SEEK_SET:\n",
    "            self.offset = offset\n",
    "        elif whence == io.SEEK_CUR:\n",
    "            self.offset += offset\n",
    "        elif whence == io.SEEK_END:\n",
    "            self.offset = self.size - offset\n",
    "        else:\n",
    "            raise ValueError(f\"Bad whence {whence}\")\n",
    "        return self.offset\n",
    "\n",
    "    def tell(self):\n",
    "        return self.offset\n",
    "\n",
    "    def close(self):\n",
    "        return\n",
    "\n",
    "    @property\n",
    "    def closed(self):\n",
    "        return False\n",
    "\n",
    "    def readinto(self, b):\n",
    "        n = len(b)\n",
    "        temp = self._read(n)\n",
    "        m = len(temp)\n",
    "        b[:m] = temp[:]\n",
    "        return m\n",
    "\n",
    "    def readall(self):\n",
    "        return bytes(self._read(-1))\n",
    "\n",
    "    def read(self, n=-1):\n",
    "        return bytes(self._read(n))\n",
    "\n",
    "    def write(self, b):\n",
    "        raise ValueError(\"Read-only stream\")\n",
    "\n",
    "    def _read(self, n=-1):\n",
    "        if n == -1:\n",
    "            n = self.size + 1\n",
    "        dat = bytearray(np.array(self.buffer[self.offset:self.offset + n]))\n",
    "        self.offset += n\n",
    "        return dat\n"
   ]
  },
  {
   "cell_type": "code",
   "execution_count": 26,
   "metadata": {},
   "outputs": [],
   "source": [
    "mzxml = io.BufferedReader(HDF5ByteBuffer(hdf5['mzML']))\n",
    "xml_bytes = mzxml.read()"
   ]
  },
  {
   "cell_type": "code",
   "execution_count": 27,
   "metadata": {},
   "outputs": [
    {
     "data": {
      "text/plain": [
       "<Element '{http://psi.hupo.org/ms/mzml}mzML' at 0x7fb2732e24f0>"
      ]
     },
     "execution_count": 27,
     "metadata": {},
     "output_type": "execute_result"
    }
   ],
   "source": [
    "tree = ET.ElementTree(ET.fromstring(xml_bytes))\n",
    "tree.getroot()"
   ]
  }
 ],
 "metadata": {
  "interpreter": {
   "hash": "2cdd9456729ee6f3db80c477375eda6f0d4e78ce82d12de5c39a1890de35092e"
  },
  "kernelspec": {
   "display_name": "Python 3.8.12 ('base')",
   "language": "python",
   "name": "python3"
  },
  "language_info": {
   "codemirror_mode": {
    "name": "ipython",
    "version": 3
   },
   "file_extension": ".py",
   "mimetype": "text/x-python",
   "name": "python",
   "nbconvert_exporter": "python",
   "pygments_lexer": "ipython3",
   "version": "3.8.13"
  },
  "orig_nbformat": 4
 },
 "nbformat": 4,
 "nbformat_minor": 2
}
